{
 "cells": [
  {
   "cell_type": "code",
   "execution_count": 464,
   "metadata": {},
   "outputs": [],
   "source": [
    "G1 = \"\"\"\n",
    "0\t1\t1\t0\t1\t0\t0\t1\t0\t0\t1\t0\n",
    "1\t0\t0\t0\t1\t0\t1\t0\t1\t0\t1\t1\n",
    "1\t0\t0\t0\t0\t1\t1\t1\t0\t1\t1\t0\n",
    "0\t0\t0\t0\t0\t1\t0\t0\t1\t0\t1\t0\n",
    "1\t1\t0\t0\t0\t1\t0\t0\t0\t0\t0\t1\n",
    "0\t0\t1\t1\t1\t0\t0\t1\t0\t1\t1\t0\n",
    "0\t1\t1\t0\t0\t0\t0\t0\t0\t1\t1\t0\n",
    "1\t0\t1\t0\t0\t1\t0\t0\t0\t1\t1\t0\n",
    "0\t1\t0\t1\t0\t0\t0\t0\t0\t0\t0\t0\n",
    "0\t0\t1\t0\t0\t1\t1\t1\t0\t0\t0\t0\n",
    "1\t1\t1\t1\t0\t1\t1\t1\t0\t0\t0\t0\n",
    "0\t1\t0\t0\t1\t0\t0\t0\t0\t0\t0\t0\n",
    "\"\"\".strip().split('\\n')\n",
    "G1 = [[int(el) for el in row.split()] for row in G1]\n",
    "n = len(G1)"
   ]
  },
  {
   "cell_type": "code",
   "execution_count": 465,
   "metadata": {},
   "outputs": [],
   "source": [
    "G2 = \"\"\"\n",
    "0\t1\t0\t1\t0\t1\t0\t0\t1\t0\t0\t1\n",
    "1\t0\t1\t0\t0\t0\t0\t0\t1\t1\t1\t1\n",
    "0\t1\t0\t1\t0\t0\t0\t1\t1\t0\t1\t1\n",
    "1\t0\t1\t0\t1\t1\t0\t0\t0\t0\t0\t0\n",
    "0\t0\t0\t1\t0\t1\t0\t0\t0\t0\t0\t0\n",
    "1\t0\t0\t1\t1\t0\t1\t0\t1\t1\t0\t0\n",
    "0\t0\t0\t0\t0\t1\t0\t1\t0\t0\t0\t0\n",
    "0\t0\t1\t0\t0\t0\t1\t0\t1\t0\t0\t0\n",
    "1\t1\t1\t0\t0\t1\t0\t1\t0\t1\t0\t1\n",
    "0\t1\t0\t0\t0\t1\t0\t0\t1\t0\t1\t0\n",
    "0\t1\t1\t0\t0\t0\t0\t0\t0\t1\t0\t1\n",
    "1\t1\t1\t0\t0\t0\t0\t0\t1\t0\t1\t0\n",
    "\"\"\".strip().split('\\n')\n",
    "G2 = [[int(el) for el in row.split()] for row in G2]"
   ]
  },
  {
   "cell_type": "code",
   "execution_count": 466,
   "metadata": {},
   "outputs": [],
   "source": [
    "# G1 = \"\"\"\n",
    "# 0\t1\t0\t1\t1\t0\t1\t0\t1\t0\t1\t1\n",
    "# 1\t0\t1\t0\t0\t0\t0\t0\t1\t1\t1\t0\n",
    "# 0\t1\t0\t1\t0\t0\t1\t0\t1\t0\t0\t1\n",
    "# 1\t0\t1\t0\t1\t1\t0\t0\t1\t1\t1\t1\n",
    "# 1\t0\t0\t1\t0\t1\t1\t1\t0\t0\t0\t1\n",
    "# 0\t0\t0\t1\t1\t0\t1\t0\t1\t0\t1\t1\n",
    "# 1\t0\t1\t0\t1\t1\t0\t1\t0\t0\t1\t1\n",
    "# 0\t0\t0\t0\t1\t0\t1\t0\t0\t0\t0\t0\n",
    "# 1\t1\t1\t1\t0\t1\t0\t0\t0\t1\t0\t0\n",
    "# 0\t1\t0\t1\t0\t0\t0\t0\t1\t0\t0\t0\n",
    "# 1\t1\t0\t1\t0\t1\t1\t0\t0\t0\t0\t0\n",
    "# 1\t0\t1\t1\t1\t1\t1\t0\t0\t0\t0\t0\n",
    "# \"\"\".strip().split('\\n')\n",
    "# G1 = [[int(el) for el in row.split()] for row in G1]"
   ]
  },
  {
   "cell_type": "code",
   "execution_count": 467,
   "metadata": {},
   "outputs": [],
   "source": [
    "# G2 = \"\"\"\n",
    "# 0\t0\t0\t1\t0\t0\t0\t0\t1\t0\t0\t0\n",
    "# 0\t0\t0\t0\t1\t1\t1\t1\t0\t1\t0\t1\n",
    "# 0\t0\t0\t1\t0\t1\t1\t1\t1\t0\t0\t1\n",
    "# 1\t0\t1\t0\t0\t0\t1\t1\t1\t0\t0\t1\n",
    "# 0\t1\t0\t0\t0\t1\t0\t0\t0\t1\t1\t1\n",
    "# 0\t1\t1\t0\t1\t0\t0\t1\t1\t0\t0\t0\n",
    "# 0\t1\t1\t1\t0\t0\t0\t1\t1\t0\t1\t0\n",
    "# 0\t1\t1\t1\t0\t1\t1\t0\t0\t1\t1\t1\n",
    "# 1\t0\t1\t1\t0\t1\t1\t0\t0\t0\t1\t1\n",
    "# 0\t1\t0\t0\t1\t0\t0\t1\t0\t0\t0\t0\n",
    "# 0\t0\t0\t0\t1\t0\t1\t1\t1\t0\t0\t1\n",
    "# 0\t1\t1\t1\t1\t0\t0\t1\t1\t0\t1\t0\n",
    "# \"\"\".strip().split('\\n')\n",
    "# G2 = [[int(el) for el in row.split()] for row in G2]"
   ]
  },
  {
   "cell_type": "code",
   "execution_count": 468,
   "metadata": {},
   "outputs": [],
   "source": [
    "def print_graph(G):\n",
    "    for row in G:\n",
    "        print(row)"
   ]
  },
  {
   "cell_type": "code",
   "execution_count": 469,
   "metadata": {},
   "outputs": [
    {
     "name": "stdout",
     "output_type": "stream",
     "text": [
      "[0, 1, 1, 0, 1, 0, 0, 1, 0, 0, 1, 0]\n",
      "[1, 0, 0, 0, 1, 0, 1, 0, 1, 0, 1, 1]\n",
      "[1, 0, 0, 0, 0, 1, 1, 1, 0, 1, 1, 0]\n",
      "[0, 0, 0, 0, 0, 1, 0, 0, 1, 0, 1, 0]\n",
      "[1, 1, 0, 0, 0, 1, 0, 0, 0, 0, 0, 1]\n",
      "[0, 0, 1, 1, 1, 0, 0, 1, 0, 1, 1, 0]\n",
      "[0, 1, 1, 0, 0, 0, 0, 0, 0, 1, 1, 0]\n",
      "[1, 0, 1, 0, 0, 1, 0, 0, 0, 1, 1, 0]\n",
      "[0, 1, 0, 1, 0, 0, 0, 0, 0, 0, 0, 0]\n",
      "[0, 0, 1, 0, 0, 1, 1, 1, 0, 0, 0, 0]\n",
      "[1, 1, 1, 1, 0, 1, 1, 1, 0, 0, 0, 0]\n",
      "[0, 1, 0, 0, 1, 0, 0, 0, 0, 0, 0, 0]\n"
     ]
    }
   ],
   "source": [
    "print_graph(G1)"
   ]
  },
  {
   "cell_type": "code",
   "execution_count": 470,
   "metadata": {},
   "outputs": [
    {
     "name": "stdout",
     "output_type": "stream",
     "text": [
      "[0, 1, 0, 1, 0, 1, 0, 0, 1, 0, 0, 1]\n",
      "[1, 0, 1, 0, 0, 0, 0, 0, 1, 1, 1, 1]\n",
      "[0, 1, 0, 1, 0, 0, 0, 1, 1, 0, 1, 1]\n",
      "[1, 0, 1, 0, 1, 1, 0, 0, 0, 0, 0, 0]\n",
      "[0, 0, 0, 1, 0, 1, 0, 0, 0, 0, 0, 0]\n",
      "[1, 0, 0, 1, 1, 0, 1, 0, 1, 1, 0, 0]\n",
      "[0, 0, 0, 0, 0, 1, 0, 1, 0, 0, 0, 0]\n",
      "[0, 0, 1, 0, 0, 0, 1, 0, 1, 0, 0, 0]\n",
      "[1, 1, 1, 0, 0, 1, 0, 1, 0, 1, 0, 1]\n",
      "[0, 1, 0, 0, 0, 1, 0, 0, 1, 0, 1, 0]\n",
      "[0, 1, 1, 0, 0, 0, 0, 0, 0, 1, 0, 1]\n",
      "[1, 1, 1, 0, 0, 0, 0, 0, 1, 0, 1, 0]\n"
     ]
    }
   ],
   "source": [
    "print_graph(G2)"
   ]
  },
  {
   "cell_type": "code",
   "execution_count": 471,
   "metadata": {},
   "outputs": [
    {
     "name": "stdout",
     "output_type": "stream",
     "text": [
      "54 [5, 6, 6, 3, 4, 6, 4, 5, 2, 4, 7, 2]\n",
      "54 [5, 6, 6, 4, 2, 6, 2, 3, 7, 4, 4, 5]\n"
     ]
    }
   ],
   "source": [
    "def p(G):\n",
    "    return [sum(row) for row in G ]\n",
    "\n",
    "\n",
    "print(sum(p(G1)), p(G1))\n",
    "print(sum(p(G2)), p(G2))"
   ]
  },
  {
   "cell_type": "code",
   "execution_count": 472,
   "metadata": {},
   "outputs": [
    {
     "data": {
      "text/plain": [
       "{2: [8, 11], 3: [3], 4: [4, 6, 9], 5: [0, 7], 6: [1, 2, 5], 7: [10]}"
      ]
     },
     "execution_count": 472,
     "metadata": {},
     "output_type": "execute_result"
    }
   ],
   "source": [
    "def f(G):\n",
    "    _p = p(G)\n",
    "    tops = dict()\n",
    "    for key in set(_p):\n",
    "        tops[key] = []\n",
    "    for i, el in enumerate(_p):\n",
    "        tops[el].append(i)\n",
    "    return tops\n",
    "\n",
    "\n",
    "f(G1)"
   ]
  },
  {
   "cell_type": "code",
   "execution_count": 473,
   "metadata": {},
   "outputs": [
    {
     "data": {
      "text/plain": [
       "({7: 3, 8: 10}, {3: 7, 10: 8})"
      ]
     },
     "execution_count": 473,
     "metadata": {},
     "output_type": "execute_result"
    }
   ],
   "source": [
    "def get_pairs(G1, G2):\n",
    "    tops1 = f(G1)\n",
    "    tops2 = f(G2)\n",
    "    pair1 = dict()\n",
    "    pair2 = dict()\n",
    "    for key1, value1 in tops1.items():\n",
    "        for key2, value2 in tops2.items():\n",
    "            if len(value1) == 1 and len(value2) == 1 and key1 == key2:\n",
    "                pair1[value1[0]] = value2[0]\n",
    "                pair2[value2[0]] = value1[0]\n",
    "    return pair2, pair1\n",
    "\n",
    "\n",
    "get_pairs(G1, G2)\n",
    "            "
   ]
  },
  {
   "cell_type": "code",
   "execution_count": 474,
   "metadata": {},
   "outputs": [
    {
     "data": {
      "text/plain": [
       "{0: [7], 1: [8], 2: [7], 3: [8], 4: [], 5: [7], 6: [], 9: [7], 10: [7], 11: []}"
      ]
     },
     "execution_count": 474,
     "metadata": {},
     "output_type": "execute_result"
    }
   ],
   "source": [
    "def get_links(G, pair):\n",
    "    installed = pair.keys()\n",
    "    uninstalled = list(set(range(n)) - set(installed))\n",
    "    return {i :[j for j, el in enumerate(G[i]) if j in installed and el] for i in uninstalled}\n",
    "\n",
    "\n",
    "get_links(G1, get_pairs(G1, G2)[0])"
   ]
  },
  {
   "cell_type": "code",
   "execution_count": 475,
   "metadata": {},
   "outputs": [
    {
     "name": "stdout",
     "output_type": "stream",
     "text": [
      "4 : 8\n",
      "11 : 9\n",
      "[links]\n",
      "1: [11]\n",
      "2: [11]\n",
      "3: [11]\n",
      "5: []\n",
      "6: [4, 11]\n",
      "7: [11]\n",
      "8: [11]\n",
      "9: [4]\n",
      "10: []\n",
      "12: []\n",
      "[links]\n",
      "[links]\n",
      "1: [9]\n",
      "2: [9]\n",
      "3: [8, 9]\n",
      "4: []\n",
      "5: []\n",
      "6: [9]\n",
      "7: [8]\n",
      "10: [9]\n",
      "11: []\n",
      "12: [9]\n",
      "[links]\n",
      "\n",
      "4 : 8\n",
      "11 : 9\n",
      "6 : 3\n",
      "9 : 7\n",
      "[links]\n",
      "1: [11]\n",
      "2: [9, 11]\n",
      "3: [6, 11]\n",
      "5: [6]\n",
      "7: [11]\n",
      "8: [6, 11]\n",
      "10: [6]\n",
      "12: []\n",
      "[links]\n",
      "[links]\n",
      "1: [9]\n",
      "2: [3, 9]\n",
      "4: [3]\n",
      "5: []\n",
      "6: [7, 9]\n",
      "10: [9]\n",
      "11: [3]\n",
      "12: [3, 9]\n",
      "[links]\n",
      "\n",
      "4 : 8\n",
      "11 : 9\n",
      "6 : 3\n",
      "9 : 7\n",
      "2 : 6\n",
      "12 : 5\n",
      "[links]\n",
      "1: [2, 11]\n",
      "3: [6, 11]\n",
      "5: [2, 6, 12]\n",
      "7: [2, 11]\n",
      "8: [6, 11]\n",
      "10: [6]\n",
      "[links]\n",
      "[links]\n",
      "1: [6, 9]\n",
      "2: [3, 9]\n",
      "4: [3, 5, 6]\n",
      "10: [6, 9]\n",
      "11: [3]\n",
      "12: [3, 9]\n",
      "[links]\n",
      "\n",
      "4 : 8\n",
      "11 : 9\n",
      "6 : 3\n",
      "9 : 7\n",
      "2 : 6\n",
      "12 : 5\n",
      "5 : 4\n",
      "10 : 11\n",
      "[links]\n",
      "1: [2, 5, 11]\n",
      "3: [6, 10, 11]\n",
      "7: [2, 10, 11]\n",
      "8: [6, 10, 11]\n",
      "[links]\n",
      "[links]\n",
      "1: [4, 6, 9]\n",
      "2: [3, 9, 11]\n",
      "12: [3, 9, 11]\n",
      "10: [6, 9, 11]\n",
      "[links]\n",
      "\n",
      "4 : 8\n",
      "11 : 9\n",
      "6 : 3\n",
      "9 : 7\n",
      "2 : 6\n",
      "12 : 5\n",
      "5 : 4\n",
      "10 : 11\n",
      "1 : 1\n",
      "7 : 10\n",
      "[links]\n",
      "3: [1, 6, 7, 10, 11]\n",
      "8: [1, 6, 10, 11]\n",
      "[links]\n",
      "[links]\n",
      "2: [1, 3, 9, 10, 11]\n",
      "12: [1, 3, 9, 11]\n",
      "[links]\n",
      "\n",
      "4 : 8\n",
      "11 : 9\n",
      "6 : 3\n",
      "9 : 7\n",
      "2 : 6\n",
      "12 : 5\n",
      "5 : 4\n",
      "10 : 11\n",
      "1 : 1\n",
      "7 : 10\n",
      "3 : 2\n",
      "8 : 12\n"
     ]
    }
   ],
   "source": [
    "pairs2, pairs1 = get_pairs(G1, G2)\n",
    "for key, value in pairs1.items():\n",
    "    print(f\"{key + 1} : {value + 1}\")\n",
    "\n",
    "\n",
    "def equals(links1, links2, pairs1, pairs2):\n",
    "    flag = True\n",
    "    for link1 in links1:\n",
    "        if pairs1[link1] not in links2:\n",
    "            flag = False\n",
    "    for link2 in links2:\n",
    "        if pairs2[link2] not in links1:\n",
    "            flag = False\n",
    "    return flag\n",
    "\n",
    "\n",
    "def show_links(links: dict):\n",
    "    print(\"[links]\")\n",
    "    for key, value in links.items():\n",
    "        print(f\"{key + 1}: {[el + 1 for el in value]}\")\n",
    "    print(\"[links]\")\n",
    "\n",
    "\n",
    "while (len(pairs1) != n or len(pairs2) != n):\n",
    "    show_links(get_links(G1, pairs1))\n",
    "    show_links(get_links(G2, pairs2))\n",
    "    accord_tops1 = {key: [] for key in get_links(G1, pairs1).keys()}\n",
    "    accord_tops2 = {key: [] for key in get_links(G2, pairs2).keys()}\n",
    "    for key1, value1 in get_links(G1, pairs1).items():\n",
    "        for key2, value2 in get_links(G2, pairs2).items():\n",
    "            if equals(value1, value2, pairs1, pairs2):\n",
    "                accord_tops1[key1].append(key2)\n",
    "                accord_tops2[key2].append(key1)\n",
    "\n",
    "\n",
    "    for key1, keys2 in accord_tops1.items():\n",
    "        if len(keys2) == 1:\n",
    "            key2 = keys2[0]\n",
    "            if len(accord_tops2[key2]) == 1:\n",
    "                if accord_tops2[key2][0] == key1:\n",
    "                    pairs1[key1] = key2\n",
    "                    pairs2[key2] = key1\n",
    "    print()\n",
    "    for key, value in pairs1.items():\n",
    "        print(f\"{key + 1} : {value + 1}\")\n"
   ]
  }
 ],
 "metadata": {
  "interpreter": {
   "hash": "a80576b97ae25ad773190ceb9790976ee22144158e50aeb8569e0a18303dad50"
  },
  "kernelspec": {
   "display_name": "Python 3.9.6 64-bit",
   "language": "python",
   "name": "python3"
  },
  "language_info": {
   "codemirror_mode": {
    "name": "ipython",
    "version": 3
   },
   "file_extension": ".py",
   "mimetype": "text/x-python",
   "name": "python",
   "nbconvert_exporter": "python",
   "pygments_lexer": "ipython3",
   "version": "3.9.6"
  },
  "orig_nbformat": 4
 },
 "nbformat": 4,
 "nbformat_minor": 2
}
